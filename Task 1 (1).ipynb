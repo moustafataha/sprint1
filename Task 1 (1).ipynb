{
 "cells": [
  {
   "cell_type": "markdown",
   "metadata": {},
   "source": [
    "# Task 1 ( Basics )"
   ]
  },
  {
   "cell_type": "markdown",
   "metadata": {},
   "source": [
    "# Question 1 :\n",
    "Define a function which can compute the sum of two numbers.\n",
    "\n",
    "Hints:\n",
    "Define a function with two numbers as arguments. You can compute the sum in the function and return the value."
   ]
  },
  {
   "cell_type": "code",
   "execution_count": 1,
   "metadata": {},
   "outputs": [
    {
     "name": "stdout",
     "output_type": "stream",
     "text": [
      "plz enter 1st number: 5\n",
      "plz enter 2nd number: 6\n",
      "sum =  11\n"
     ]
    }
   ],
   "source": [
    "def summ(num1,num2):\n",
    "    res = num1 + num2\n",
    "    print (\"sum = \", res)\n",
    "    \n",
    "n1 = input (\"plz enter 1st number: \")\n",
    "n2 = input (\"plz enter 2nd number: \")\n",
    "n1 = int(n1)\n",
    "n2 = int(n2)\n",
    "\n",
    "summ(n1,n2)"
   ]
  },
  {
   "cell_type": "markdown",
   "metadata": {},
   "source": [
    "# Question 2:\n",
    "\n",
    "    Write a method which can calculate square value of number\n",
    "\n",
    "Hints:\n",
    "    Using the ** operator\n"
   ]
  },
  {
   "cell_type": "code",
   "execution_count": 3,
   "metadata": {},
   "outputs": [
    {
     "name": "stdout",
     "output_type": "stream",
     "text": [
      "plz enter a number: 5\n",
      "square value is:  25\n"
     ]
    }
   ],
   "source": [
    "def sqr(num):\n",
    "    num = num**2\n",
    "    print (\"square value is: \", num)\n",
    "    \n",
    "n1 = input (\"plz enter a number: \")\n",
    "n1 = int(n1)\n",
    "sqr(n1)    "
   ]
  },
  {
   "cell_type": "markdown",
   "metadata": {},
   "source": [
    "# Question 3\n",
    "Define a function that can convert a integer into a string and print it in console.\n",
    "\n",
    "Hints:\n",
    "\n",
    "Use str() to convert a number to string."
   ]
  },
  {
   "cell_type": "code",
   "execution_count": 5,
   "metadata": {},
   "outputs": [
    {
     "name": "stdout",
     "output_type": "stream",
     "text": [
      "plz enter a number: 66\n",
      "The number you entered is converted to a string 66\n"
     ]
    }
   ],
   "source": [
    "def conv(m):\n",
    "    m = str(m)\n",
    "    print (\"The number you entered is converted to a string\", m)\n",
    "    \n",
    "x = int(input(\"plz enter a number: \"))\n",
    "conv(x)"
   ]
  },
  {
   "cell_type": "markdown",
   "metadata": {},
   "source": [
    "# Question 4 :\n",
    "Define a function that can receive two integral numbers in string form and compute their sum and then print it in console.\n",
    "\n",
    "Hints:\n",
    "\n",
    "Use int() to convert a string to integer."
   ]
  },
  {
   "cell_type": "code",
   "execution_count": 6,
   "metadata": {},
   "outputs": [
    {
     "name": "stdout",
     "output_type": "stream",
     "text": [
      "plz enter 1st number: 66\n",
      "plz enter 2nd number: 33\n",
      "sum =  99\n"
     ]
    }
   ],
   "source": [
    "def summ(num1,num2):\n",
    "    res = num1 + num2\n",
    "    print (\"sum = \", res)\n",
    "    \n",
    "n1 = input (\"plz enter 1st number: \")\n",
    "n2 = input (\"plz enter 2nd number: \")\n",
    "n1 = int(n1)\n",
    "n2 = int(n2)\n",
    "\n",
    "summ(n1,n2)"
   ]
  },
  {
   "cell_type": "markdown",
   "metadata": {},
   "source": [
    "# Question 5 :\n",
    "Define a function that can accept two strings as input and concatenate them and then print it in console.\n",
    "\n",
    "Hints:\n",
    "\n",
    "Use + to concatenate the strings\n"
   ]
  },
  {
   "cell_type": "code",
   "execution_count": 8,
   "metadata": {},
   "outputs": [
    {
     "name": "stdout",
     "output_type": "stream",
     "text": [
      "plz enter 1st string: hello\n",
      "plz enter 2nd string: world\n",
      "hello  world\n"
     ]
    }
   ],
   "source": [
    "def conca(str1,str2):\n",
    "    print (str1,\"\",str2)\n",
    "    \n",
    "st1 = input (\"plz enter 1st string: \")\n",
    "st2 = input (\"plz enter 2nd string: \")\n",
    "\n",
    "conca(st1,st2)"
   ]
  },
  {
   "cell_type": "markdown",
   "metadata": {},
   "source": [
    "# Question 6 :\n",
    "Define a function that can accept two strings as input and print the string with maximum length in console. If two strings have the same length, then the function should print al l strings line by line.\n",
    "\n",
    "Hints:\n",
    "\n",
    "Use len() function to get the length of a string"
   ]
  },
  {
   "cell_type": "code",
   "execution_count": 1,
   "metadata": {},
   "outputs": [
    {
     "name": "stdout",
     "output_type": "stream",
     "text": [
      "plz enter 1st string: hi\n",
      "plz enter 2nd string: hello\n",
      "hello\n"
     ]
    }
   ],
   "source": [
    "def maxstr(str1,str2):\n",
    "    if len(str1) > len(str2):\n",
    "        print (str1)\n",
    "    elif len(str2) > len(str1):\n",
    "        print (str2)\n",
    "    else:\n",
    "        print (str1, \"\\n\")\n",
    "        print (str2)\n",
    "        \n",
    "a = input(\"plz enter 1st string: \")\n",
    "b = input(\"plz enter 2nd string: \")\n",
    "\n",
    "maxstr(a,b)"
   ]
  },
  {
   "cell_type": "markdown",
   "metadata": {},
   "source": [
    "# Question 7 :\n",
    "Define a function that can accept an integer number as input and print the \"It is an even number\" if the number is even, otherwise print \"It is an odd number\".\n",
    "\n",
    "Hints:\n",
    "\n",
    "Use % operator to check if a number is even or odd."
   ]
  },
  {
   "cell_type": "code",
   "execution_count": 2,
   "metadata": {},
   "outputs": [
    {
     "name": "stdout",
     "output_type": "stream",
     "text": [
      "plz enter a number: 6\n",
      "The number you entered is even number\n"
     ]
    }
   ],
   "source": [
    "def numtype(m1):\n",
    "    if m1 != 0:\n",
    "        if m1 % 2 == 0:\n",
    "            print (\"The number you entered is even number\")\n",
    "        else:\n",
    "            print (\"The number you entered is odd number\")\n",
    "    else:\n",
    "        print (\"You entered 0\")\n",
    "        \n",
    "x = int(input(\"plz enter a number: \"))\n",
    "numtype(x)\n",
    "        "
   ]
  },
  {
   "cell_type": "markdown",
   "metadata": {},
   "source": [
    "# Question 8 :\n",
    "Write a program which accepts a string as input to print \"Yes\" if the string is \"yes\" or \"YES\" or \"Yes\", otherwise print \"No\". \n",
    "\n",
    "Hints:\n",
    "\n",
    "Use if statement to judge condition."
   ]
  },
  {
   "cell_type": "code",
   "execution_count": 5,
   "metadata": {},
   "outputs": [
    {
     "name": "stdout",
     "output_type": "stream",
     "text": [
      "plz enter a word: k\n",
      "you did not say yes\n"
     ]
    }
   ],
   "source": [
    "def yes(x):\n",
    "    if x.upper() == \"YES\":\n",
    "        print (\"you said: Yes\")\n",
    "    else:\n",
    "        print (\"you did not say yes\")\n",
    "        \n",
    "y = input(\"plz enter a word: \")\n",
    "yes(y)"
   ]
  },
  {
   "cell_type": "code",
   "execution_count": null,
   "metadata": {},
   "outputs": [],
   "source": []
  },
  {
   "cell_type": "markdown",
   "metadata": {},
   "source": [
    "# Question 9 :\n",
    "Write a program which will find all such numbers which are divisible by 7 but are not a multiple of 5,\n",
    "between 2000 and 3200 (both included).\n",
    "The numbers obtained should be printed in a comma-separated sequence on a single line.\n",
    "\n",
    "Hints: \n",
    "Consider use range(#begin, #end) method"
   ]
  },
  {
   "cell_type": "code",
   "execution_count": 24,
   "metadata": {},
   "outputs": [
    {
     "name": "stdout",
     "output_type": "stream",
     "text": [
      "2002 , 2009 , 2016 , 2023 , 2037 , 2044 , 2051 , 2058 , 2072 , 2079 , 2086 , 2093 , 2107 , 2114 , 2121 , 2128 , 2142 , 2149 , 2156 , 2163 , 2177 , 2184 , 2191 , 2198 , 2212 , 2219 , 2226 , 2233 , 2247 , 2254 , 2261 , 2268 , 2282 , 2289 , 2296 , 2303 , 2317 , 2324 , 2331 , 2338 , 2352 , 2359 , 2366 , 2373 , 2387 , 2394 , 2401 , 2408 , 2422 , 2429 , 2436 , 2443 , 2457 , 2464 , 2471 , 2478 , 2492 , 2499 , 2506 , 2513 , 2527 , 2534 , 2541 , 2548 , 2562 , 2569 , 2576 , 2583 , 2597 , 2604 , 2611 , 2618 , 2632 , 2639 , 2646 , 2653 , 2667 , 2674 , 2681 , 2688 , 2702 , 2709 , 2716 , 2723 , 2737 , 2744 , 2751 , 2758 , 2772 , 2779 , 2786 , 2793 , 2807 , 2814 , 2821 , 2828 , 2842 , 2849 , 2856 , 2863 , 2877 , 2884 , 2891 , 2898 , 2912 , 2919 , 2926 , 2933 , 2947 , 2954 , 2961 , 2968 , 2982 , 2989 , 2996 , 3003 , 3017 , 3024 , 3031 , 3038 , 3052 , 3059 , 3066 , 3073 , 3087 , 3094 , 3101 , 3108 , 3122 , 3129 , 3136 , 3143 , 3157 , 3164 , 3171 , 3178 , 3192 , 3199 , "
     ]
    }
   ],
   "source": [
    "def findnum():\n",
    "    for i in range(2000,3201):\n",
    "        if (i % 7 == 0) and (i % 5 != 0):\n",
    "            print (i, end =\" \")\n",
    "            print (\",\", end =\" \")\n",
    "            \n",
    "findnum()"
   ]
  },
  {
   "cell_type": "code",
   "execution_count": null,
   "metadata": {},
   "outputs": [],
   "source": []
  },
  {
   "cell_type": "code",
   "execution_count": null,
   "metadata": {},
   "outputs": [],
   "source": []
  },
  {
   "cell_type": "markdown",
   "metadata": {},
   "source": [
    "# Question 10 :\n",
    "Write a program which can compute the factorial of a given numbers.\n",
    "The results should be printed in a comma-separated sequence on a single line.\n",
    "Suppose the following input is supplied to the program:\n",
    "8\n",
    "Then, the output should be:\n",
    "40320\n",
    "\n",
    "Hints:\n",
    "In case of input data being supplied to the question, it should be assumed to be a console input."
   ]
  },
  {
   "cell_type": "code",
   "execution_count": 10,
   "metadata": {},
   "outputs": [],
   "source": [
    "#Search about it please"
   ]
  },
  {
   "cell_type": "code",
   "execution_count": 15,
   "metadata": {},
   "outputs": [
    {
     "name": "stdout",
     "output_type": "stream",
     "text": [
      "plz enter a number: 8\n",
      "The factorial of  8 =  40320\n"
     ]
    }
   ],
   "source": [
    "def factorial(f):\n",
    "    if f < 0:\n",
    "        return (0)\n",
    "    elif f == 0 or f == 1:\n",
    "        return(1)\n",
    "    else:\n",
    "        res = 1\n",
    "        while f > 1 :\n",
    "            res *= f\n",
    "            f-= 1\n",
    "        return (res)\n",
    "\n",
    "num = int(input(\"plz enter a number: \"))        \n",
    "print (\"The factorial of \", num, \"= \", factorial(num))\n",
    "        "
   ]
  },
  {
   "cell_type": "markdown",
   "metadata": {},
   "source": [
    "# Question 11 :\n",
    "Write a program that computes the value of a+aa+aaa+aaaa with a given digit as the value of a.\n",
    "Suppose the following input is supplied to the program:\n",
    "9\n",
    "Then, the output should be:\n",
    "11106\n",
    "\n",
    "Hints:\n",
    "In case of input data being supplied to the question, it should be assumed to be a console input.\n"
   ]
  },
  {
   "cell_type": "code",
   "execution_count": 7,
   "metadata": {},
   "outputs": [
    {
     "name": "stdout",
     "output_type": "stream",
     "text": [
      "plz enter number: 9\n",
      "plz enter number of digits: 4\n",
      "result is:  11106\n"
     ]
    }
   ],
   "source": [
    "def sumdigit(d,e):\n",
    "    e = int(e)\n",
    "    x = [d]\n",
    "    a=2\n",
    "    result = 0\n",
    "    for n in x:\n",
    "        n = a*d\n",
    "        a +=1\n",
    "        x.append(n)\n",
    "        if a == e+1:\n",
    "            break\n",
    "    \n",
    "    for j in x:\n",
    "        result += int(j)\n",
    "    print (\"result is: \", result)\n",
    "    \n",
    "        \n",
    "    \n",
    "\n",
    "k = input(\"plz enter number: \") \n",
    "l = input(\"plz enter number of digits: \")    \n",
    "\n",
    "    \n",
    "sumdigit(k,l)"
   ]
  },
  {
   "cell_type": "code",
   "execution_count": null,
   "metadata": {},
   "outputs": [],
   "source": []
  }
 ],
 "metadata": {
  "kernelspec": {
   "display_name": "Python 3 (ipykernel)",
   "language": "python",
   "name": "python3"
  },
  "language_info": {
   "codemirror_mode": {
    "name": "ipython",
    "version": 3
   },
   "file_extension": ".py",
   "mimetype": "text/x-python",
   "name": "python",
   "nbconvert_exporter": "python",
   "pygments_lexer": "ipython3",
   "version": "3.9.7"
  }
 },
 "nbformat": 4,
 "nbformat_minor": 2
}
