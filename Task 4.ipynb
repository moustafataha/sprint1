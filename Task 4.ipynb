{
 "cells": [
  {
   "cell_type": "markdown",
   "metadata": {},
   "source": [
    "# 1- Question \n",
    "1-read you csv file (https://raw.githubusercontent.com/mwaskom/seaborn-data/master/diamonds.csv )\n",
    "\n",
    "2-print the first 5 rows \n",
    "\n",
    "3-print the shape of the data\n",
    "\n",
    "4- print and data type of each column"
   ]
  },
  {
   "cell_type": "code",
   "execution_count": 3,
   "metadata": {},
   "outputs": [
    {
     "name": "stdout",
     "output_type": "stream",
     "text": [
      "   carat      cut color clarity  depth  table  price     x     y     z\n",
      "0   0.23    Ideal     E     SI2   61.5   55.0    326  3.95  3.98  2.43\n",
      "1   0.21  Premium     E     SI1   59.8   61.0    326  3.89  3.84  2.31\n",
      "2   0.23     Good     E     VS1   56.9   65.0    327  4.05  4.07  2.31\n",
      "3   0.29  Premium     I     VS2   62.4   58.0    334  4.20  4.23  2.63\n",
      "4   0.31     Good     J     SI2   63.3   58.0    335  4.34  4.35  2.75\n",
      "data shape= (53940, 10)\n",
      "carat      float64\n",
      "cut         object\n",
      "color       object\n",
      "clarity     object\n",
      "depth      float64\n",
      "table      float64\n",
      "price        int64\n",
      "x          float64\n",
      "y          float64\n",
      "z          float64\n",
      "dtype: object\n"
     ]
    }
   ],
   "source": [
    "import csv\n",
    "import pandas as pd\n",
    "data = pd.read_csv(\"https://raw.githubusercontent.com/mwaskom/seaborn-data/master/diamonds.csv \")\n",
    "print(data[0:5])\n",
    "print(\"data shape=\",data.shape)\n",
    "print(data.dtypes)\n"
   ]
  },
  {
   "cell_type": "markdown",
   "metadata": {},
   "source": [
    "# 2-Question\n",
    "1- print carat column\n",
    "\n",
    "2- Write a Pandas program to create a new 'Quality -color' Column (cut,color)\n",
    "\n",
    "examble => ( Ideal, E)"
   ]
  },
  {
   "cell_type": "code",
   "execution_count": 4,
   "metadata": {},
   "outputs": [
    {
     "name": "stdout",
     "output_type": "stream",
     "text": [
      "0        0.23\n",
      "1        0.21\n",
      "2        0.23\n",
      "3        0.29\n",
      "4        0.31\n",
      "         ... \n",
      "53935    0.72\n",
      "53936    0.72\n",
      "53937    0.70\n",
      "53938    0.86\n",
      "53939    0.75\n",
      "Name: carat, Length: 53940, dtype: float64\n",
      "0            Ideal,E\n",
      "1          Premium,E\n",
      "2             Good,E\n",
      "3          Premium,I\n",
      "4             Good,J\n",
      "            ...     \n",
      "53935        Ideal,D\n",
      "53936         Good,D\n",
      "53937    Very Good,D\n",
      "53938      Premium,H\n",
      "53939        Ideal,D\n",
      "Name: Quality_color, Length: 53940, dtype: object\n"
     ]
    }
   ],
   "source": [
    "print (data[\"carat\"])\n",
    "list1=[]\n",
    "list2=[]\n",
    "for i in data[\"cut\"]:\n",
    "    list1.append (i)\n",
    "for i in data[\"color\"]:\n",
    "    list2.append (i)\n",
    "    \n",
    "list3 = [i+\",\"+j for i,j in zip(list1,list2)]\n",
    "    \n",
    "data[\"Quality_color\"]=list3\n",
    "print (data[\"Quality_color\"])"
   ]
  },
  {
   "cell_type": "markdown",
   "metadata": {},
   "source": [
    "# 3-Question\n",
    "1-Write a Pandas program to summarize the data.\n",
    "\n",
    "2- only one column => 'table'\n",
    "\n",
    "3- only 'float64' columns of the diamonds Dataframe. => include=['...']"
   ]
  },
  {
   "cell_type": "code",
   "execution_count": 5,
   "metadata": {},
   "outputs": [
    {
     "name": "stdout",
     "output_type": "stream",
     "text": [
      "Data columns: \n",
      "Index(['carat', 'cut', 'color', 'clarity', 'depth', 'table', 'price', 'x', 'y',\n",
      "       'z', 'Quality_color'],\n",
      "      dtype='object')\n",
      "Data describtion: \n",
      "              carat         depth         table         price             x  \\\n",
      "count  53940.000000  53940.000000  53940.000000  53940.000000  53940.000000   \n",
      "mean       0.797940     61.749405     57.457184   3932.799722      5.731157   \n",
      "std        0.474011      1.432621      2.234491   3989.439738      1.121761   \n",
      "min        0.200000     43.000000     43.000000    326.000000      0.000000   \n",
      "25%        0.400000     61.000000     56.000000    950.000000      4.710000   \n",
      "50%        0.700000     61.800000     57.000000   2401.000000      5.700000   \n",
      "75%        1.040000     62.500000     59.000000   5324.250000      6.540000   \n",
      "max        5.010000     79.000000     95.000000  18823.000000     10.740000   \n",
      "\n",
      "                  y             z  \n",
      "count  53940.000000  53940.000000  \n",
      "mean       5.734526      3.538734  \n",
      "std        1.142135      0.705699  \n",
      "min        0.000000      0.000000  \n",
      "25%        4.720000      2.910000  \n",
      "50%        5.710000      3.530000  \n",
      "75%        6.540000      4.040000  \n",
      "max       58.900000     31.800000  \n",
      "describe column table: \n",
      "count    53940.000000\n",
      "mean        57.457184\n",
      "std          2.234491\n",
      "min         43.000000\n",
      "25%         56.000000\n",
      "50%         57.000000\n",
      "75%         59.000000\n",
      "max         95.000000\n",
      "Name: table, dtype: float64\n",
      "Data information are: \n",
      "<class 'pandas.core.frame.DataFrame'>\n",
      "RangeIndex: 53940 entries, 0 to 53939\n",
      "Data columns (total 11 columns):\n",
      " #   Column         Non-Null Count  Dtype  \n",
      "---  ------         --------------  -----  \n",
      " 0   carat          53940 non-null  float64\n",
      " 1   cut            53940 non-null  object \n",
      " 2   color          53940 non-null  object \n",
      " 3   clarity        53940 non-null  object \n",
      " 4   depth          53940 non-null  float64\n",
      " 5   table          53940 non-null  float64\n",
      " 6   price          53940 non-null  int64  \n",
      " 7   x              53940 non-null  float64\n",
      " 8   y              53940 non-null  float64\n",
      " 9   z              53940 non-null  float64\n",
      " 10  Quality_color  53940 non-null  object \n",
      "dtypes: float64(6), int64(1), object(4)\n",
      "memory usage: 4.5+ MB\n",
      "None\n",
      "float64 is: \n",
      "              carat         depth         table             x             y  \\\n",
      "count  53940.000000  53940.000000  53940.000000  53940.000000  53940.000000   \n",
      "mean       0.797940     61.749405     57.457184      5.731157      5.734526   \n",
      "std        0.474011      1.432621      2.234491      1.121761      1.142135   \n",
      "min        0.200000     43.000000     43.000000      0.000000      0.000000   \n",
      "25%        0.400000     61.000000     56.000000      4.710000      4.720000   \n",
      "50%        0.700000     61.800000     57.000000      5.700000      5.710000   \n",
      "75%        1.040000     62.500000     59.000000      6.540000      6.540000   \n",
      "max        5.010000     79.000000     95.000000     10.740000     58.900000   \n",
      "\n",
      "                  z  \n",
      "count  53940.000000  \n",
      "mean       3.538734  \n",
      "std        0.705699  \n",
      "min        0.000000  \n",
      "25%        2.910000  \n",
      "50%        3.530000  \n",
      "75%        4.040000  \n",
      "max       31.800000  \n"
     ]
    }
   ],
   "source": [
    "print (\"Data columns: \")\n",
    "print (data.columns)\n",
    "print (\"Data describtion: \")\n",
    "print (data.describe())\n",
    "print (\"describe column table: \")\n",
    "print (data[\"table\"].describe())\n",
    "print (\"Data information are: \")\n",
    "print (data.info())\n",
    "print(\"float64 is: \")\n",
    "print (data.describe(include=[\"float64\"]))"
   ]
  },
  {
   "cell_type": "markdown",
   "metadata": {},
   "source": [
    "# 4-Question\n",
    "Write a Pandas program to find the details of the diamonds where length>5, width>5 and depth>5. (x,y,z)"
   ]
  },
  {
   "cell_type": "code",
   "execution_count": 6,
   "metadata": {},
   "outputs": [
    {
     "name": "stdout",
     "output_type": "stream",
     "text": [
      "       carat        cut color clarity  depth  table  price     x      y  \\\n",
      "11778   1.83       Fair     J      I1   70.0   58.0   5083  7.34   7.28   \n",
      "13002   2.14       Fair     J      I1   69.4   57.0   5405  7.74   7.70   \n",
      "13118   2.15       Fair     J      I1   65.5   57.0   5430  8.01   7.95   \n",
      "13562   1.96       Fair     F      I1   66.6   60.0   5554  7.59   7.56   \n",
      "13757   2.22       Fair     J      I1   66.7   56.0   5607  8.04   8.02   \n",
      "...      ...        ...   ...     ...    ...    ...    ...   ...    ...   \n",
      "27748   2.00  Very Good     G     SI1   63.5   56.0  18818  7.90   7.97   \n",
      "27749   2.29    Premium     I     VS2   60.8   60.0  18823  8.50   8.47   \n",
      "48410   0.51  Very Good     E     VS1   61.8   54.7   1970  5.12   5.15   \n",
      "49189   0.51      Ideal     E     VS1   61.8   55.0   2075  5.15  31.80   \n",
      "49905   0.50  Very Good     G    VVS1   63.7   58.0   2180  5.01   5.04   \n",
      "\n",
      "           z Quality_color  \n",
      "11778   5.12        Fair,J  \n",
      "13002   5.36        Fair,J  \n",
      "13118   5.23        Fair,J  \n",
      "13562   5.04        Fair,F  \n",
      "13757   5.36        Fair,J  \n",
      "...      ...           ...  \n",
      "27748   5.04   Very Good,G  \n",
      "27749   5.16     Premium,I  \n",
      "48410  31.80   Very Good,E  \n",
      "49189   5.12       Ideal,E  \n",
      "49905   5.06   Very Good,G  \n",
      "\n",
      "[1457 rows x 11 columns]\n"
     ]
    }
   ],
   "source": [
    "\n",
    "l=((data.x>5) & (data.y>5) & (data.z>5))\n",
    "\n",
    "print(data[l])"
   ]
  },
  {
   "cell_type": "markdown",
   "metadata": {},
   "source": [
    "# 5-Question\n",
    "1- rename one col\n",
    "\n",
    "2- rename two col togeather\n",
    "\n",
    "3- rename all col togeather"
   ]
  },
  {
   "cell_type": "code",
   "execution_count": 7,
   "metadata": {},
   "outputs": [
    {
     "name": "stdout",
     "output_type": "stream",
     "text": [
      "Index(['carat', 'cut', 'color', 'clarity', 'depth', 'table', 'price', 'x', 'y',\n",
      "       'z', 'Quality_color'],\n",
      "      dtype='object')\n",
      "       carat        cut COLOR clarity  depth  table  price     x     y     z  \\\n",
      "0       0.23      Ideal     E     SI2   61.5   55.0    326  3.95  3.98  2.43   \n",
      "1       0.21    Premium     E     SI1   59.8   61.0    326  3.89  3.84  2.31   \n",
      "2       0.23       Good     E     VS1   56.9   65.0    327  4.05  4.07  2.31   \n",
      "3       0.29    Premium     I     VS2   62.4   58.0    334  4.20  4.23  2.63   \n",
      "4       0.31       Good     J     SI2   63.3   58.0    335  4.34  4.35  2.75   \n",
      "...      ...        ...   ...     ...    ...    ...    ...   ...   ...   ...   \n",
      "53935   0.72      Ideal     D     SI1   60.8   57.0   2757  5.75  5.76  3.50   \n",
      "53936   0.72       Good     D     SI1   63.1   55.0   2757  5.69  5.75  3.61   \n",
      "53937   0.70  Very Good     D     SI1   62.8   60.0   2757  5.66  5.68  3.56   \n",
      "53938   0.86    Premium     H     SI2   61.0   58.0   2757  6.15  6.12  3.74   \n",
      "53939   0.75      Ideal     D     SI2   62.2   55.0   2757  5.83  5.87  3.64   \n",
      "\n",
      "      Quality_color  \n",
      "0           Ideal,E  \n",
      "1         Premium,E  \n",
      "2            Good,E  \n",
      "3         Premium,I  \n",
      "4            Good,J  \n",
      "...             ...  \n",
      "53935       Ideal,D  \n",
      "53936        Good,D  \n",
      "53937   Very Good,D  \n",
      "53938     Premium,H  \n",
      "53939       Ideal,D  \n",
      "\n",
      "[53940 rows x 11 columns]\n",
      "       carat        CUT color clarity  depth  table  PRICE     x     y     z  \\\n",
      "0       0.23      Ideal     E     SI2   61.5   55.0    326  3.95  3.98  2.43   \n",
      "1       0.21    Premium     E     SI1   59.8   61.0    326  3.89  3.84  2.31   \n",
      "2       0.23       Good     E     VS1   56.9   65.0    327  4.05  4.07  2.31   \n",
      "3       0.29    Premium     I     VS2   62.4   58.0    334  4.20  4.23  2.63   \n",
      "4       0.31       Good     J     SI2   63.3   58.0    335  4.34  4.35  2.75   \n",
      "...      ...        ...   ...     ...    ...    ...    ...   ...   ...   ...   \n",
      "53935   0.72      Ideal     D     SI1   60.8   57.0   2757  5.75  5.76  3.50   \n",
      "53936   0.72       Good     D     SI1   63.1   55.0   2757  5.69  5.75  3.61   \n",
      "53937   0.70  Very Good     D     SI1   62.8   60.0   2757  5.66  5.68  3.56   \n",
      "53938   0.86    Premium     H     SI2   61.0   58.0   2757  6.15  6.12  3.74   \n",
      "53939   0.75      Ideal     D     SI2   62.2   55.0   2757  5.83  5.87  3.64   \n",
      "\n",
      "      Quality_color  \n",
      "0           Ideal,E  \n",
      "1         Premium,E  \n",
      "2            Good,E  \n",
      "3         Premium,I  \n",
      "4            Good,J  \n",
      "...             ...  \n",
      "53935       Ideal,D  \n",
      "53936        Good,D  \n",
      "53937   Very Good,D  \n",
      "53938     Premium,H  \n",
      "53939       Ideal,D  \n",
      "\n",
      "[53940 rows x 11 columns]\n",
      "['CARAT', 'CUT1', 'COLOR!', 'CLARITY', 'DEPTH', 'TABLE', 'PRICE', 'X', 'Y', 'Z', 'QUALITY_COLOR']\n"
     ]
    }
   ],
   "source": [
    "print(data.columns)\n",
    "m=data.rename(columns={\"color\":\"COLOR\"})\n",
    "n=data.rename(columns={\"cut\":\"CUT\",\"price\":\"PRICE\"})\n",
    "o=data.columns=[\"CARAT\",\"CUT1\",\"COLOR!\",\"CLARITY\",\"DEPTH\",\"TABLE\",\"PRICE\",\"X\",\"Y\",\"Z\",\"QUALITY_COLOR\"]\n",
    "print(m)\n",
    "print(n)\n",
    "print(o)"
   ]
  },
  {
   "cell_type": "markdown",
   "metadata": {},
   "source": [
    "# 6-Question\n",
    "Write a Pandas program to find the diamonds that are either Good or Very Good."
   ]
  },
  {
   "cell_type": "code",
   "execution_count": 8,
   "metadata": {},
   "outputs": [
    {
     "name": "stdout",
     "output_type": "stream",
     "text": [
      "       CARAT       CUT1 COLOR! CLARITY  DEPTH  TABLE  PRICE     X     Y     Z  \\\n",
      "2       0.23       Good      E     VS1   56.9   65.0    327  4.05  4.07  2.31   \n",
      "4       0.31       Good      J     SI2   63.3   58.0    335  4.34  4.35  2.75   \n",
      "5       0.24  Very Good      J    VVS2   62.8   57.0    336  3.94  3.96  2.48   \n",
      "6       0.24  Very Good      I    VVS1   62.3   57.0    336  3.95  3.98  2.47   \n",
      "7       0.26  Very Good      H     SI1   61.9   55.0    337  4.07  4.11  2.53   \n",
      "...      ...        ...    ...     ...    ...    ...    ...   ...   ...   ...   \n",
      "53927   0.79       Good      F     SI1   58.1   59.0   2756  6.06  6.13  3.54   \n",
      "53932   0.70  Very Good      E     VS2   60.5   59.0   2757  5.71  5.76  3.47   \n",
      "53933   0.70  Very Good      E     VS2   61.2   59.0   2757  5.69  5.72  3.49   \n",
      "53936   0.72       Good      D     SI1   63.1   55.0   2757  5.69  5.75  3.61   \n",
      "53937   0.70  Very Good      D     SI1   62.8   60.0   2757  5.66  5.68  3.56   \n",
      "\n",
      "      QUALITY_COLOR  \n",
      "2            Good,E  \n",
      "4            Good,J  \n",
      "5       Very Good,J  \n",
      "6       Very Good,I  \n",
      "7       Very Good,H  \n",
      "...             ...  \n",
      "53927        Good,F  \n",
      "53932   Very Good,E  \n",
      "53933   Very Good,E  \n",
      "53936        Good,D  \n",
      "53937   Very Good,D  \n",
      "\n",
      "[16988 rows x 11 columns]\n"
     ]
    }
   ],
   "source": [
    "x = ((data.CUT1==\"Good\") | (data.CUT1==\"Very Good\"))\n",
    "print (data[x])"
   ]
  },
  {
   "cell_type": "markdown",
   "metadata": {},
   "source": [
    "# 7-Question\n",
    "1-print the name of all the columns\n",
    "\n",
    "2- Mean of each column\n",
    "\n",
    "3-Mean of each row of diamonds DataFrame:"
   ]
  },
  {
   "cell_type": "code",
   "execution_count": 24,
   "metadata": {},
   "outputs": [
    {
     "name": "stdout",
     "output_type": "stream",
     "text": [
      "mean of:  CARAT 0.7979397478679852\n",
      "mean of:  DEPTH 61.74940489432624\n",
      "mean of:  TABLE 57.45718390804603\n",
      "mean of:  PRICE 3932.799721913237\n",
      "mean of:  X 5.731157211716609\n",
      "mean of:  Y 5.734525954764462\n",
      "mean of:  Z 3.5387337782723316\n",
      "mean of each row: \n",
      "0         64.727143\n",
      "1         65.292857\n",
      "2         65.651429\n",
      "3         66.535714\n",
      "4         66.864286\n",
      "            ...    \n",
      "53935    412.932857\n",
      "53936    412.981429\n",
      "53937    413.628571\n",
      "53938    413.267143\n",
      "53939    412.898571\n",
      "Length: 53940, dtype: float64\n"
     ]
    },
    {
     "name": "stderr",
     "output_type": "stream",
     "text": [
      "C:\\Users\\Moustafa\\AppData\\Local\\Temp/ipykernel_16620/2946057822.py:7: FutureWarning: Dropping of nuisance columns in DataFrame reductions (with 'numeric_only=None') is deprecated; in a future version this will raise TypeError.  Select only valid columns before calling the reduction.\n",
      "  print (data.mean(axis=1))\n"
     ]
    }
   ],
   "source": [
    "x = (data.columns)\n",
    "y= (data.describe(include=[\"float64\",\"int64\"]))\n",
    "for i in y:\n",
    "    print (\"mean of: \",i,data[i].mean())\n",
    "    \n",
    "print (\"mean of each row: \")   \n",
    "print (data.mean(axis=1))\n",
    "\n"
   ]
  },
  {
   "cell_type": "markdown",
   "metadata": {},
   "source": [
    "# 8-Question\n",
    "1- mean of 'price' column only\n",
    "\n",
    "2- Write a Pandas program to calculate the mean of price for each cut of diamonds DataFrame.\n",
    "\n",
    "3-Write a Pandas program to calculate count, minimum, maximum price for each cut of diamonds DataFrame.\n",
    "\n",
    "4- count how many times each value in cut series of diamonds DataFrame occurs. value_counts()"
   ]
  },
  {
   "cell_type": "code",
   "execution_count": 41,
   "metadata": {},
   "outputs": [
    {
     "name": "stdout",
     "output_type": "stream",
     "text": [
      "The mean of price column:  3932.799721913237\n",
      "mean of price for each cut:  CUT1\n",
      "Fair         4358.757764\n",
      "Good         3928.864452\n",
      "Ideal        3457.541970\n",
      "Premium      4584.257704\n",
      "Very Good    3981.759891\n",
      "Name: PRICE, dtype: float64\n",
      "count of price for each cut:  CUT1\n",
      "Fair          1610\n",
      "Good          4906\n",
      "Ideal        21551\n",
      "Premium      13791\n",
      "Very Good    12082\n",
      "Name: PRICE, dtype: int64\n",
      "minimum of price for each cut:  CUT1\n",
      "Fair         337\n",
      "Good         327\n",
      "Ideal        326\n",
      "Premium      326\n",
      "Very Good    336\n",
      "Name: PRICE, dtype: int64\n",
      "maximum of price for each cut:  CUT1\n",
      "Fair         18574\n",
      "Good         18788\n",
      "Ideal        18806\n",
      "Premium      18823\n",
      "Very Good    18818\n",
      "Name: PRICE, dtype: int64\n",
      "Count of each cut:  <bound method IndexOpsMixin.value_counts of 0            Ideal\n",
      "1          Premium\n",
      "2             Good\n",
      "3          Premium\n",
      "4             Good\n",
      "           ...    \n",
      "53935        Ideal\n",
      "53936         Good\n",
      "53937    Very Good\n",
      "53938      Premium\n",
      "53939        Ideal\n",
      "Name: CUT1, Length: 53940, dtype: object>\n"
     ]
    }
   ],
   "source": [
    "a =  (data.PRICE.mean())\n",
    "print (\"The mean of price column: \", a)\n",
    "\n",
    "b = (data.groupby(\"CUT1\"))\n",
    "print (\"mean of price for each cut: \",b.PRICE.mean())\n",
    "print (\"count of price for each cut: \",b.PRICE.count())\n",
    "print (\"minimum of price for each cut: \",b.PRICE.min())\n",
    "print (\"maximum of price for each cut: \",b.PRICE.max())\n",
    "\n",
    "print (\"Count of each cut: \", data[\"CUT1\"].value_counts)"
   ]
  },
  {
   "cell_type": "markdown",
   "metadata": {},
   "source": [
    "# 9-Question\n",
    "Write a Pandas program to count the number of missing values in each Series of diamonds DataFrame."
   ]
  },
  {
   "cell_type": "code",
   "execution_count": 44,
   "metadata": {},
   "outputs": [
    {
     "name": "stdout",
     "output_type": "stream",
     "text": [
      "       CARAT   CUT1  COLOR!  CLARITY  DEPTH  TABLE  PRICE      X      Y  \\\n",
      "0      False  False   False    False  False  False  False  False  False   \n",
      "1      False  False   False    False  False  False  False  False  False   \n",
      "2      False  False   False    False  False  False  False  False  False   \n",
      "3      False  False   False    False  False  False  False  False  False   \n",
      "4      False  False   False    False  False  False  False  False  False   \n",
      "...      ...    ...     ...      ...    ...    ...    ...    ...    ...   \n",
      "53935  False  False   False    False  False  False  False  False  False   \n",
      "53936  False  False   False    False  False  False  False  False  False   \n",
      "53937  False  False   False    False  False  False  False  False  False   \n",
      "53938  False  False   False    False  False  False  False  False  False   \n",
      "53939  False  False   False    False  False  False  False  False  False   \n",
      "\n",
      "           Z  QUALITY_COLOR  \n",
      "0      False          False  \n",
      "1      False          False  \n",
      "2      False          False  \n",
      "3      False          False  \n",
      "4      False          False  \n",
      "...      ...            ...  \n",
      "53935  False          False  \n",
      "53936  False          False  \n",
      "53937  False          False  \n",
      "53938  False          False  \n",
      "53939  False          False  \n",
      "\n",
      "[53940 rows x 11 columns]\n",
      "CARAT            0\n",
      "CUT1             0\n",
      "COLOR!           0\n",
      "CLARITY          0\n",
      "DEPTH            0\n",
      "TABLE            0\n",
      "PRICE            0\n",
      "X                0\n",
      "Y                0\n",
      "Z                0\n",
      "QUALITY_COLOR    0\n",
      "dtype: int64\n"
     ]
    }
   ],
   "source": [
    "r = data.isnull()\n",
    "print (r)\n",
    "print (r.sum())"
   ]
  },
  {
   "cell_type": "code",
   "execution_count": null,
   "metadata": {},
   "outputs": [],
   "source": []
  }
 ],
 "metadata": {
  "kernelspec": {
   "display_name": "Python 3 (ipykernel)",
   "language": "python",
   "name": "python3"
  },
  "language_info": {
   "codemirror_mode": {
    "name": "ipython",
    "version": 3
   },
   "file_extension": ".py",
   "mimetype": "text/x-python",
   "name": "python",
   "nbconvert_exporter": "python",
   "pygments_lexer": "ipython3",
   "version": "3.9.7"
  }
 },
 "nbformat": 4,
 "nbformat_minor": 2
}
