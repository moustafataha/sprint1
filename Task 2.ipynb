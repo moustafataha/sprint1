{
 "cells": [
  {
   "cell_type": "markdown",
   "metadata": {},
   "source": [
    "# Question 1:\n",
    "Define a function which can print a dictionary where the keys are numbers between 1 and 3 (both included) and the values are square of keys.\n",
    "\n",
    "Hints:\n",
    "\n",
    "Use dict[key]=value pattern to put entry into a dictionary.\n",
    "Use ** operator to get power of a number."
   ]
  },
  {
   "cell_type": "code",
   "execution_count": 34,
   "metadata": {},
   "outputs": [
    {
     "name": "stdout",
     "output_type": "stream",
     "text": [
      "{1: 1, 2: 4, 3: 9}\n"
     ]
    }
   ],
   "source": [
    "def dct():\n",
    "  l1=[]\n",
    "  for i in range (1,4):\n",
    "    l1.append(i)\n",
    "    i+=1\n",
    "  d1=dict.fromkeys(l1)\n",
    "  \n",
    "  \n",
    "  for k in d1.keys():\n",
    "    d1[k]=int(k**2)\n",
    "  print(d1)\n",
    "  \n",
    "dct()"
   ]
  },
  {
   "cell_type": "markdown",
   "metadata": {},
   "source": [
    "# Question 2:\n",
    "Define a function which can generate a dictionary where the keys are numbers between 1 and 20 (both included) and the values are square of keys. The function should just print the values only.\n",
    "\n",
    "Hints:\n",
    "\n",
    "Use dict[key]=value pattern to put entry into a dictionary.\n",
    "Use ** operator to get power of a number.\n",
    "Use range() for loops.\n",
    "Use keys() to iterate keys in the dictionary. Also we can use item() to get key/value pairs.\n"
   ]
  },
  {
   "cell_type": "code",
   "execution_count": 3,
   "metadata": {},
   "outputs": [
    {
     "name": "stdout",
     "output_type": "stream",
     "text": [
      "[1, 2, 3, 4, 5, 6, 7, 8, 9, 10, 11, 12, 13, 14, 15, 16, 17, 18, 19, 20]\n",
      "{1: 1, 2: 4, 3: 9, 4: 16, 5: 25, 6: 36, 7: 49, 8: 64, 9: 81, 10: 100, 11: 121, 12: 144, 13: 169, 14: 196, 15: 225, 16: 256, 17: 289, 18: 324, 19: 361, 20: 400}\n",
      "dict_values([1, 4, 9, 16, 25, 36, 49, 64, 81, 100, 121, 144, 169, 196, 225, 256, 289, 324, 361, 400])\n"
     ]
    }
   ],
   "source": [
    "def decti():\n",
    "  l1=[]\n",
    "  for i in range (1,21):\n",
    "    l1.append(i)\n",
    "    i+=1\n",
    "  d1=dict.fromkeys(l1)\n",
    "  \n",
    "  \n",
    "  for k in d1.keys():\n",
    "    d1[k]=int(k**2)\n",
    "  print(d1)\n",
    "  print(d1.values())\n",
    "  \n",
    "decti()"
   ]
  },
  {
   "cell_type": "markdown",
   "metadata": {},
   "source": [
    "# Question 3:\n",
    "Define a function which can generate a dictionary where the keys are numbers between 1 and 20 (both included) and the values are square of keys. The function should just print the keys only.\n",
    "\n",
    "Hints:\n",
    "\n",
    "Use dict[key]=value pattern to put entry into a dictionary.\n",
    "Use ** operator to get power of a number.\n",
    "Use range() for loops.\n",
    "Use keys() to iterate keys in the dictionary. Also we can use item() to get key/value pairs.\n"
   ]
  },
  {
   "cell_type": "code",
   "execution_count": 4,
   "metadata": {},
   "outputs": [
    {
     "name": "stdout",
     "output_type": "stream",
     "text": [
      "{1: 1, 2: 4, 3: 9, 4: 16, 5: 25, 6: 36, 7: 49, 8: 64, 9: 81, 10: 100, 11: 121, 12: 144, 13: 169, 14: 196, 15: 225, 16: 256, 17: 289, 18: 324, 19: 361, 20: 400}\n",
      "dict_keys([1, 2, 3, 4, 5, 6, 7, 8, 9, 10, 11, 12, 13, 14, 15, 16, 17, 18, 19, 20])\n"
     ]
    }
   ],
   "source": [
    "def decti():\n",
    "  l1=[]\n",
    "  for i in range (1,21):\n",
    "    l1.append(i)\n",
    "    i+=1\n",
    "  d1=dict.fromkeys(l1)\n",
    "  \n",
    "  \n",
    "  for k in d1.keys():\n",
    "    d1[k]=int(k*k)\n",
    "  print(d1)\n",
    "  print(d1.keys())\n",
    "  \n",
    "decti()"
   ]
  },
  {
   "cell_type": "markdown",
   "metadata": {},
   "source": [
    "# Question 4 \n",
    "Write a Python program to check a dictionary is empty or not"
   ]
  },
  {
   "cell_type": "code",
   "execution_count": 5,
   "metadata": {},
   "outputs": [
    {
     "name": "stdout",
     "output_type": "stream",
     "text": [
      " This dectionary {}  is empty\n",
      "This dictionary {1: 'a', 2: 'b'}  is not empty\n"
     ]
    }
   ],
   "source": [
    "def checkdict(d):\n",
    "\tif len(d)==0:\n",
    "\t\tprint (\" This dectionary\",d,\" is empty\")\n",
    "\telse:\n",
    "\t\tprint(\"This dictionary\",d,\" is not empty\")\n",
    "\t\t\n",
    "d1={}\n",
    "d2={1:\"a\",2:\"b\"}\n",
    "checkdict(d1)\n",
    "checkdict(d2)"
   ]
  },
  {
   "cell_type": "markdown",
   "metadata": {},
   "source": [
    "# Question 5\n",
    "\n",
    "Write a Python program to test whether every element in s is in t and every element in t is in s.\n",
    "\n"
   ]
  },
  {
   "cell_type": "code",
   "execution_count": 7,
   "metadata": {},
   "outputs": [
    {
     "name": "stdout",
     "output_type": "stream",
     "text": [
      "[1, 2, 3] and [1, 2, 3] are equal lists\n",
      "[1, 2, 3] and [6, 7] are non equal lists\n",
      "[1, 2, 3] and [1, 2, 3, 4, 5, 6] are non equal lists\n"
     ]
    }
   ],
   "source": [
    "def compare(l1,l2):\n",
    "\tl1.sort()\n",
    "\tl2.sort()\n",
    "\tif l1==l2:\n",
    "\t\tprint(l1,\"and\",l2,\"are equal lists\")\n",
    "\telse:\n",
    "\t\tprint(l1,\"and\",l2,\"are non equal lists\")\n",
    "\t\t\n",
    "l3 =[1,2,3]\n",
    "l4=[3,2,1]\n",
    "l5=[6,7]\n",
    "l6=[1,2,3,4,5,6]\n",
    "compare(l3,l4)\n",
    "compare(l3,l5)\n",
    "compare(l3,l6)"
   ]
  },
  {
   "cell_type": "markdown",
   "metadata": {},
   "source": [
    "# Question 6\n",
    "Create set 1 and set 2 then \n",
    "Write a Python program to 1- create an intersection of sets.\n",
    "2-  a union of sets.\n",
    "3- create set difference.\n",
    "4- a symmetric difference."
   ]
  },
  {
   "cell_type": "code",
   "execution_count": 23,
   "metadata": {},
   "outputs": [
    {
     "name": "stdout",
     "output_type": "stream",
     "text": [
      "union {1, 2, 3, 4, 5, 6, 7, 8, 9}\n",
      "intersection {1, 2, 3, 5, 6}\n",
      "difference  [1, 2, 3, 5, 6, 8] - [9, 5, 2, 1, 3, 7, 4, 6] = {8}\n",
      "difference  [9, 5, 2, 1, 3, 7, 4, 6] - [1, 2, 3, 5, 6, 8] = {9, 4, 7}\n",
      "symmetric_difference {4, 7, 8, 9}\n"
     ]
    }
   ],
   "source": [
    "def compare(a,b):\n",
    "    sa = set(a)\n",
    "    sb = set(b)\n",
    "    print(\"union\",sa.union(sb))\n",
    "    print(\"intersection\",sa.intersection(sb))\n",
    "\n",
    "    print(\"difference \",a,\"-\",b,\"=\",sa.difference(sb))\n",
    "    print(\"difference \",b,\"-\",a,\"=\",sb.difference(sa))\n",
    "\n",
    "    print(\"symmetric_difference\",sa.symmetric_difference(sb))\n",
    "\n",
    "l1 = [1,2,3,5,6,8]\n",
    "l2 = [9,5,2,1,3,7,4,6]\n",
    "compare(l1,l2)"
   ]
  },
  {
   "cell_type": "markdown",
   "metadata": {},
   "source": [
    "# Question  7\n",
    "Write a Python program to use of frozensets."
   ]
  },
  {
   "cell_type": "code",
   "execution_count": 24,
   "metadata": {},
   "outputs": [
    {
     "name": "stdout",
     "output_type": "stream",
     "text": [
      "frozenset({1, 2, 3, 4})\n"
     ]
    }
   ],
   "source": [
    "l1=[1,2,3,4]\n",
    "fl1=frozenset(l1)\n",
    "print(fl1)"
   ]
  },
  {
   "cell_type": "markdown",
   "metadata": {},
   "source": [
    "# Question 8\n",
    "Write a Python program to find maximum and the minimum value in a set."
   ]
  },
  {
   "cell_type": "code",
   "execution_count": 25,
   "metadata": {},
   "outputs": [
    {
     "name": "stdout",
     "output_type": "stream",
     "text": [
      "3\n",
      "1\n"
     ]
    }
   ],
   "source": [
    "s={1,2,3}\n",
    "print (max(s))\n",
    "print (min(s))"
   ]
  },
  {
   "cell_type": "markdown",
   "metadata": {},
   "source": [
    "# Question9 :\n",
    "With a given tuple (1,2,3,4,5,6,7,8,9,10), write a program to print the first half values in one line and the last half values in one line. \n",
    "\n",
    "Hints:\n",
    "\n",
    "Use [n1:n2] notation to get a slice from a tuple."
   ]
  },
  {
   "cell_type": "code",
   "execution_count": 26,
   "metadata": {},
   "outputs": [
    {
     "name": "stdout",
     "output_type": "stream",
     "text": [
      "(1, 2, 3, 4, 5, 6, 7, 8, 9, 10)\n",
      "(1, 2, 3, 4, 5)\n",
      "(6, 7, 8, 9, 10)\n"
     ]
    }
   ],
   "source": [
    "def tline(t):\n",
    "\tl=len(t)\n",
    "\tm=l/2\n",
    "\tm=int(m)\n",
    "\tprint(t)\n",
    "\tprint(t[0:m])\n",
    "\tprint (t[m:])\n",
    "\t\n",
    "t1=(1,2,3,4,5,6,7,8,9,10)\n",
    "tline(t1)"
   ]
  },
  {
   "cell_type": "markdown",
   "metadata": {},
   "source": [
    "# Question 10 :\n",
    "You are required to write a program to sort the (name, age, height) tuples by ascending order where name is string, age and height are numbers. The tuples are input by console. The sort criteria is:\n",
    "1: Sort based on name;\n",
    "2: Then sort based on age;\n",
    "3: Then sort by score.\n",
    "The priority is that name > age > score.\n",
    "If the following tuples are given as input to the program:\n",
    "Tom,19,80\n",
    "John,20,90\n",
    "Jony,17,91\n",
    "Jony,17,93\n",
    "Json,21,85\n",
    "Then, the output of the program should be:\n",
    "[('John', '20', '90'), ('Jony', '17', '91'), ('Jony', '17', '93'), ('Json', '21', '85'), ('Tom', '19', '80')]\n",
    "\n",
    "Hints:\n",
    "In case of input data being supplied to the question, it should be assumed to be a console input.\n",
    "We use itemgetter to enable multiple sort keys.\n",
    "\n",
    "Solutions:\n",
    "from operator import itemgetter, attrgetter\n"
   ]
  },
  {
   "cell_type": "code",
   "execution_count": 27,
   "metadata": {},
   "outputs": [
    {
     "name": "stdout",
     "output_type": "stream",
     "text": [
      "[('john', 20, 90), ('jony', 17, 91), ('jony', 17, 93), ('json', 21, 85), ('tom', 19, 80)]\n"
     ]
    }
   ],
   "source": [
    "def sorttupl(l):\n",
    "\tl.sort()\n",
    "\tprint(l)\n",
    "\t\n",
    "k=[(\"tom\",19,80),(\"john\",20,90),(\"jony\",17,91),(\"jony\",17,93),(\"json\",21,85)]\n",
    "sorttupl(k)"
   ]
  },
  {
   "cell_type": "markdown",
   "metadata": {},
   "source": [
    "# Question 11:\n",
    "\n",
    "Please write a program to generate a list with 5 random numbers between 100 and 200 inclusive.\n",
    "\n",
    "\n",
    "\n",
    "Hints:\n",
    "Use random.sample() to generate a list of random values."
   ]
  },
  {
   "cell_type": "code",
   "execution_count": 28,
   "metadata": {},
   "outputs": [
    {
     "name": "stdout",
     "output_type": "stream",
     "text": [
      "[178, 66, 46, 167, 56]\n"
     ]
    }
   ],
   "source": [
    "import random\n",
    "list=[]\n",
    "for i in range (201):\n",
    "\tlist.append(i)\n",
    "m = random.sample(list,5)\n",
    "print(m)"
   ]
  },
  {
   "cell_type": "markdown",
   "metadata": {},
   "source": [
    "# Question 12\n",
    "Please write a program to randomly generate a list with 5 even numbers between 100 and 200 inclusive.\n",
    "\n",
    "Hints:\n",
    "Use random.sample() to generate a list of random values."
   ]
  },
  {
   "cell_type": "code",
   "execution_count": 30,
   "metadata": {},
   "outputs": [
    {
     "name": "stdout",
     "output_type": "stream",
     "text": [
      "[112, 156, 106, 192, 134]\n"
     ]
    }
   ],
   "source": [
    "import random\n",
    "list=[]\n",
    "for i in range (100,201,2):\n",
    "\tlist.append(i)\n",
    "m = random.sample(list,5)\n",
    "print(m)"
   ]
  },
  {
   "cell_type": "markdown",
   "metadata": {},
   "source": [
    "# Question 13\n",
    "Please write a program to randomly print a integer number between 7 and 15 inclusive.\n",
    "\n",
    "Hints: Use random.randrange() to a random integer in a given range.\n",
    "\n"
   ]
  },
  {
   "cell_type": "code",
   "execution_count": 31,
   "metadata": {},
   "outputs": [
    {
     "name": "stdout",
     "output_type": "stream",
     "text": [
      "9\n"
     ]
    }
   ],
   "source": [
    "import random\n",
    "print (random.randrange(7,16))"
   ]
  },
  {
   "cell_type": "markdown",
   "metadata": {},
   "source": [
    "# Question 14\n",
    "\n",
    "Please write a program to print the running time of execution of \"1+1\" for 100 times.\n",
    "Hints:\n",
    "Use timeit() function to measure the running time.\n"
   ]
  },
  {
   "cell_type": "code",
   "execution_count": 32,
   "metadata": {},
   "outputs": [
    {
     "name": "stdout",
     "output_type": "stream",
     "text": [
      "2\n",
      "2.099999619531445e-06\n"
     ]
    }
   ],
   "source": [
    "import timeit\n",
    "m=(\"hello\")\n",
    "def code():\n",
    "\tprint(1+1)\n",
    "print(timeit.timeit(setup=code,number=100))"
   ]
  },
  {
   "cell_type": "markdown",
   "metadata": {},
   "source": [
    "# Question 15 :\n",
    "\n",
    "Please write a program to shuffle and print the list [3,6,7,8].\n",
    "\n",
    "Hints:\n",
    "Use shuffle() function to shuffle a list.\n"
   ]
  },
  {
   "cell_type": "code",
   "execution_count": 33,
   "metadata": {},
   "outputs": [
    {
     "name": "stdout",
     "output_type": "stream",
     "text": [
      "[7, 3, 8, 6]\n"
     ]
    }
   ],
   "source": [
    "import random\n",
    "list =[3,6,7,8]\n",
    "random.shuffle(list)\n",
    "print (list)"
   ]
  }
 ],
 "metadata": {
  "kernelspec": {
   "display_name": "Python 3 (ipykernel)",
   "language": "python",
   "name": "python3"
  },
  "language_info": {
   "codemirror_mode": {
    "name": "ipython",
    "version": 3
   },
   "file_extension": ".py",
   "mimetype": "text/x-python",
   "name": "python",
   "nbconvert_exporter": "python",
   "pygments_lexer": "ipython3",
   "version": "3.9.7"
  }
 },
 "nbformat": 4,
 "nbformat_minor": 2
}
