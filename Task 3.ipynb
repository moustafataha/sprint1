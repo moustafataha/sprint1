{
 "cells": [
  {
   "cell_type": "markdown",
   "metadata": {},
   "source": [
    "# Question 1\n",
    "Write a Python program to count the number of characters (character frequency) in a string.\n",
    "\n",
    "Examble: ('google.com') =>  {'g': 2, 'o': 3, 'l': 1, 'e': 1, '.': 1, 'c': 1, 'm': 1}\n"
   ]
  },
  {
   "cell_type": "code",
   "execution_count": 17,
   "metadata": {},
   "outputs": [
    {
     "name": "stdout",
     "output_type": "stream",
     "text": [
      "plz say somthinggoogle.com\n",
      "['g', 'o', 'o', 'g', 'l', 'e', '.', 'c', 'o', 'm']\n",
      "the frequency of letters in your string is:  {'g': 2, 'o': 3, 'l': 1, 'e': 1, '.': 1, 'c': 1, 'm': 1}\n"
     ]
    }
   ],
   "source": [
    "def counter(s):\n",
    "\td={}\n",
    "\tlist=[]\n",
    "\tfor i in s:\n",
    "\t\tlist.append(i)\n",
    "\tprint(list)\n",
    "\tfor i in list:\n",
    "\t\td[i]=list.count(i)\n",
    "\t\n",
    "\t\t\t\n",
    "\t\t\t\n",
    "\tprint(\"the frequency of letters in your string is: \",d)\n",
    "\t\n",
    "h=input(\"plz say somthing\")\n",
    "counter(h)"
   ]
  },
  {
   "cell_type": "markdown",
   "metadata": {},
   "source": [
    "# Question  2"
   ]
  },
  {
   "cell_type": "raw",
   "metadata": {},
   "source": [
    "\n",
    "Write a Python program to get a string from a given string where all occurrences of its first char have been changed to '$', except the first char itself.\n",
    "\n",
    "Examble => 'restart' => 'resta$t'\n",
    "           'google'  => 'goo$le'"
   ]
  },
  {
   "cell_type": "code",
   "execution_count": 19,
   "metadata": {},
   "outputs": [
    {
     "name": "stdout",
     "output_type": "stream",
     "text": [
      "plz enter your textgoogle g board\n",
      "goo$le $ board\n"
     ]
    }
   ],
   "source": [
    "def occur(s):\n",
    "\tm=s[0]\n",
    "\ty=s[1:].replace(m,\"$\")\n",
    "\tprint(m+y)\n",
    "\t\n",
    "x=input(\"plz enter your text\")\n",
    "occur(x)"
   ]
  },
  {
   "cell_type": "markdown",
   "metadata": {},
   "source": [
    "# Question 3"
   ]
  },
  {
   "cell_type": "raw",
   "metadata": {},
   "source": [
    "Write a Python program to get a single string from two given strings, separated by a space and swap the first two characters of each string.\n",
    "Examble : 'abc', 'xyz' => xyc abz"
   ]
  },
  {
   "cell_type": "code",
   "execution_count": 20,
   "metadata": {},
   "outputs": [
    {
     "name": "stdout",
     "output_type": "stream",
     "text": [
      "wello horld\n"
     ]
    }
   ],
   "source": [
    "def swap(x,y):\n",
    "\tprint(y[0]+x[1:],x[0]+y[1:])\n",
    "\t\n",
    "a=\"hello\"\n",
    "b=\"world\"\n",
    "swap(a,b)"
   ]
  },
  {
   "cell_type": "markdown",
   "metadata": {},
   "source": [
    "# Question 4"
   ]
  },
  {
   "cell_type": "raw",
   "metadata": {},
   "source": [
    "Write a Python program to add 'ing' at the end of a given string (length should be at least 3). If the given string already ends with 'ing' then add 'ly' instead. If the string length of the given string is less than 3, leave it unchanged.\n",
    "Examble => ab => ab\n",
    "        => abc => abcing \n",
    "        => string => stringly"
   ]
  },
  {
   "cell_type": "code",
   "execution_count": 21,
   "metadata": {},
   "outputs": [
    {
     "name": "stdout",
     "output_type": "stream",
     "text": [
      "abcing\n",
      "stringly\n",
      "ab\n"
     ]
    }
   ],
   "source": [
    "def change(x):\n",
    "\tm=len(x)\n",
    "\tif m<3:\n",
    "\t\tprint (x)\n",
    "\telse:\n",
    "\t\tif x[(m-3):]==\"ing\":\n",
    "\t\t\tprint(x+\"ly\")\n",
    "\t\t\t\t\n",
    "\t\telse:\n",
    "\t\t\tprint (x+\"ing\")\n",
    "\t\t\t\t\n",
    "a=\"abc\"\n",
    "b=\"string\"\n",
    "c=\"ab\"\n",
    "change(a)\n",
    "change(b)\n",
    "change(c)"
   ]
  },
  {
   "cell_type": "markdown",
   "metadata": {},
   "source": [
    "# Question 5"
   ]
  },
  {
   "cell_type": "markdown",
   "metadata": {},
   "source": [
    "Write a Python script to display the various Date Time formats.\n",
    "\n",
    "a) Current date and time\n",
    "b) Current year\n",
    "c) Month of year\n",
    "d) Week number of the year\n",
    "e) Weekday of the week\n",
    "f) Day of year\n",
    "g) Day of the month\n",
    "h) Day of week\n",
    "Solution=>\n",
    "import time\n",
    "import datetime"
   ]
  },
  {
   "cell_type": "code",
   "execution_count": 46,
   "metadata": {},
   "outputs": [
    {
     "name": "stdout",
     "output_type": "stream",
     "text": [
      "2022-03-17 13:57:22.767988\n",
      "2022-03-17\n",
      "this is year:  2022\n",
      "this is month:  3\n",
      "this is day:  17\n",
      "datetime.IsoCalendarDate(year=2022, week=11, weekday=4)\n",
      "this is week 11 in the year: \n",
      "this is day 3 in the week: \n",
      "this is day 76 in the year: \n",
      "this is day 17 in the month: \n",
      "this is day 3 in the week: \n",
      "<class 'datetime.date'> <class 'datetime.datetime'>\n"
     ]
    }
   ],
   "source": [
    "from datetime import *\n",
    "def d():\n",
    "    m = datetime.now()\n",
    "    t = date.today()\n",
    "    #y=datetime.datetime()\n",
    "    #x=datetime.date(y)\n",
    "    print (m)\n",
    "    print (t)\n",
    "    print(\"this is year: \",t.year)\n",
    "    print(\"this is month: \",t.month)\n",
    "    print(\"this is day: \",t.day)\n",
    "    \n",
    "    iso=(t.isocalendar())\n",
    "    print (iso)\n",
    "    print(\"this is week %s in the year: \"%iso[1])\n",
    "    print(\"this is day %s in the week: \"%t.weekday())\n",
    "    \n",
    "    dyear = m.timetuple().tm_yday\n",
    "    print(\"this is day %s in the year: \"%dyear)\n",
    "    dmonth = m.timetuple().tm_mday\n",
    "    print(\"this is day %s in the month: \"%dmonth)\n",
    "    dweek = m.timetuple().tm_wday\n",
    "    print(\"this is day %s in the week: \"%dweek)\n",
    "    print (type(t),type(m))\n",
    "\n",
    "\n",
    "d()"
   ]
  },
  {
   "cell_type": "markdown",
   "metadata": {},
   "source": [
    "# Question 6"
   ]
  },
  {
   "cell_type": "markdown",
   "metadata": {},
   "source": [
    "Write a Python program to print yesterday, today, tomorrow.\n",
    "\n",
    "Yesterday :  2020-01-17\n",
    "Today :  2020-01-18\n",
    "Tomorrow :  2020-01-19\n",
    "Solution=>\n",
    "import datetime"
   ]
  },
  {
   "cell_type": "code",
   "execution_count": 37,
   "metadata": {},
   "outputs": [
    {
     "name": "stdout",
     "output_type": "stream",
     "text": [
      "yesterday was:  2022-03-16\n",
      "today is:  2022-03-17\n",
      "tommorrow will be:  2022-03-18\n"
     ]
    }
   ],
   "source": [
    "from datetime import date,timedelta\n",
    "t=date.today()\n",
    "yesterday=t-timedelta(days=1)\n",
    "tomm=t+timedelta(days=1)\n",
    "print(\"yesterday was: \",yesterday)\n",
    "print(\"today is: \",t)\n",
    "print(\"tommorrow will be: \",tomm)"
   ]
  },
  {
   "cell_type": "markdown",
   "metadata": {},
   "source": [
    "# Question 7"
   ]
  },
  {
   "cell_type": "markdown",
   "metadata": {},
   "source": [
    "\n",
    "Write a Python program to add 5 seconds with the current time.\n",
    "\n",
    "\n",
    "Current time=> 13:09:38.491219\n",
    "After 5 seconds => 13:09:43.491219"
   ]
  },
  {
   "cell_type": "code",
   "execution_count": 38,
   "metadata": {},
   "outputs": [
    {
     "name": "stdout",
     "output_type": "stream",
     "text": [
      "2022-03-17 13:50:03.051660\n",
      "2022-03-17 13:50:08.051660\n"
     ]
    }
   ],
   "source": [
    "import datetime\n",
    "t=datetime.datetime.now()\n",
    "s=t+datetime.timedelta(0,5)\n",
    "print(t)\n",
    "print(s)"
   ]
  },
  {
   "cell_type": "markdown",
   "metadata": {},
   "source": [
    "# Question 8"
   ]
  },
  {
   "cell_type": "code",
   "execution_count": 15,
   "metadata": {},
   "outputs": [],
   "source": [
    "# Write a Python program to convert Year/Month/Day to Day of Year."
   ]
  },
  {
   "cell_type": "code",
   "execution_count": 52,
   "metadata": {},
   "outputs": [
    {
     "name": "stdout",
     "output_type": "stream",
     "text": [
      "this is day 76 in the year: \n",
      "plz enter year:2022\n",
      "plz enter month:3\n",
      "plz enter day:16\n",
      "this is day 75 in the year: \n"
     ]
    }
   ],
   "source": [
    "import datetime\n",
    "t = datetime.datetime.now()\n",
    "day_of_year = (t - datetime.datetime(t.year, 1, 1)).days + 1\n",
    "print(\"this is day %s in the year: \"%day_of_year)\n",
    "\n",
    "##another solution\n",
    "def conv(y,m,d):\n",
    "    dyear = date(int(y),int(m),int(d)).timetuple().tm_yday\n",
    "    print(\"this is day %s in the year: \"%dyear)\n",
    "y = input(\"plz enter year:\")\n",
    "m = input(\"plz enter month:\")\n",
    "d = input(\"plz enter day:\")\n",
    "    \n",
    "conv(y,m,d)"
   ]
  },
  {
   "cell_type": "markdown",
   "metadata": {},
   "source": [
    "# Question 9"
   ]
  },
  {
   "cell_type": "raw",
   "metadata": {},
   "source": [
    "Write a Python program to get current time in milliseconds."
   ]
  },
  {
   "cell_type": "code",
   "execution_count": 53,
   "metadata": {},
   "outputs": [
    {
     "name": "stdout",
     "output_type": "stream",
     "text": [
      "1647518704.6764657\n",
      "time in milliseconds is:  1647518704000\n"
     ]
    }
   ],
   "source": [
    "from time import time\n",
    "x=time()\n",
    "print (x)\n",
    "ms =int(x)*1000\n",
    "print(\"time in milliseconds is: \",ms)"
   ]
  },
  {
   "cell_type": "markdown",
   "metadata": {},
   "source": [
    "# Question 10"
   ]
  },
  {
   "cell_type": "raw",
   "metadata": {},
   "source": [
    "Write a Python program to get week number."
   ]
  },
  {
   "cell_type": "code",
   "execution_count": 54,
   "metadata": {},
   "outputs": [
    {
     "name": "stdout",
     "output_type": "stream",
     "text": [
      "week number is:  11\n"
     ]
    }
   ],
   "source": [
    "import datetime\n",
    "m=datetime.datetime.today()\n",
    "x=m.isocalendar()\n",
    "print(\"week number is: \",x[1])"
   ]
  },
  {
   "cell_type": "markdown",
   "metadata": {},
   "source": [
    "# Question 11"
   ]
  },
  {
   "cell_type": "raw",
   "metadata": {},
   "source": [
    "Write a Python program that matches a string that has an 'a' followed by anything, ending in 'b'."
   ]
  },
  {
   "cell_type": "code",
   "execution_count": 2,
   "metadata": {},
   "outputs": [
    {
     "name": "stdout",
     "output_type": "stream",
     "text": [
      "google is not matched\n",
      "i am playing with letter b is matched\n",
      "i am playing football is not matched\n"
     ]
    }
   ],
   "source": [
    "def match(x):\n",
    "        if \"a\" in x:\n",
    "            if x[-1]== \"b\":\n",
    "                print (x,\"is matched\")\n",
    "            else:\n",
    "                print (x,\"is not matched\")\n",
    "        else:\n",
    "            print (x,\"is not matched\")\n",
    "                \n",
    "       \n",
    "a = \"google\"\n",
    "b = \"i am playing with letter b\"\n",
    "c = \"i am playing football\"\n",
    "match (a)\n",
    "match (b)\n",
    "match (c)"
   ]
  },
  {
   "cell_type": "markdown",
   "metadata": {},
   "source": [
    "# Question 12"
   ]
  },
  {
   "cell_type": "raw",
   "metadata": {},
   "source": [
    "Write a Python program to calculate the area of a trapezoid."
   ]
  },
  {
   "cell_type": "code",
   "execution_count": 11,
   "metadata": {},
   "outputs": [
    {
     "name": "stdout",
     "output_type": "stream",
     "text": [
      "welcome\n",
      "plz enter length of 1st base: 32\n",
      "plz enter length of 2nd base: 12\n",
      "plz enter length of height: 5\n",
      "110.0\n"
     ]
    }
   ],
   "source": [
    "def trapezoid():\n",
    "    print (\"welcome\")\n",
    "    a = input((\"plz enter length of 1st base: \"))\n",
    "    a = float(a)\n",
    "    b = input((\"plz enter length of 2nd base: \"))\n",
    "    b = float(b)\n",
    "    h = input((\"plz enter length of height: \"))\n",
    "    h = float(h)\n",
    "    area = 1/2*(a+b)*h\n",
    "    print (area)\n",
    "    \n",
    "trapezoid()"
   ]
  },
  {
   "cell_type": "code",
   "execution_count": null,
   "metadata": {},
   "outputs": [],
   "source": []
  },
  {
   "cell_type": "code",
   "execution_count": null,
   "metadata": {},
   "outputs": [],
   "source": []
  }
 ],
 "metadata": {
  "kernelspec": {
   "display_name": "Python 3 (ipykernel)",
   "language": "python",
   "name": "python3"
  },
  "language_info": {
   "codemirror_mode": {
    "name": "ipython",
    "version": 3
   },
   "file_extension": ".py",
   "mimetype": "text/x-python",
   "name": "python",
   "nbconvert_exporter": "python",
   "pygments_lexer": "ipython3",
   "version": "3.9.7"
  }
 },
 "nbformat": 4,
 "nbformat_minor": 2
}
